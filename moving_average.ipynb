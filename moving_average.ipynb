{
 "cells": [
  {
   "cell_type": "markdown",
   "metadata": {},
   "source": [
    "Moving Average models\n",
    "\n",
    "models that predict future values of a time series using the past error\n",
    "\n",
    "Auto regression: y(t) = C1*y(t-1) + C2 + E(t) => AR(1)    \n",
    "Moving average: y(t) = U + C1*E(t-1) + E(t) => MA(1)    \n",
    "\n",
    "MA(q) model: y(t) = U + C1*E(t-1) +.......+ Cq*E(t-q) + E(t)"
   ]
  },
  {
   "cell_type": "markdown",
   "metadata": {},
   "source": [
    "ACF (Auto correlation function)\n",
    "\n",
    "Measure the correlation between the current time period and previous time lags\n",
    "Takes into account direct and indirect effect\n",
    "Between [-1,1] for pearson correlation coefficient"
   ]
  },
  {
   "cell_type": "markdown",
   "metadata": {},
   "source": [
    "We use ACF for moving average model"
   ]
  },
  {
   "cell_type": "code",
   "execution_count": null,
   "metadata": {},
   "outputs": [],
   "source": []
  }
 ],
 "metadata": {
  "language_info": {
   "name": "python"
  }
 },
 "nbformat": 4,
 "nbformat_minor": 2
}
