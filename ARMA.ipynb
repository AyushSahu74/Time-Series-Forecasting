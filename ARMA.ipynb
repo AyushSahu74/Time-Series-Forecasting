{
 "cells": [
  {
   "cell_type": "markdown",
   "metadata": {},
   "source": [
    "Auto regression moving average model (ARMA)\n",
    "\n",
    "A simple combination of auto-regression and moving average model\n",
    "\n",
    "ARMA model: y(t) = B0 + B1*y(t-1) + R1*E(t-1) + E(t) => ARMA (1,1)"
   ]
  },
  {
   "cell_type": "markdown",
   "metadata": {},
   "source": [
    "How to find order of ARMA(p,q)\n",
    "\n",
    "ACF and PACF plots\n",
    "Measure the correlation between current time period and previous time lags"
   ]
  },
  {
   "cell_type": "code",
   "execution_count": null,
   "metadata": {},
   "outputs": [],
   "source": []
  }
 ],
 "metadata": {
  "language_info": {
   "name": "python"
  }
 },
 "nbformat": 4,
 "nbformat_minor": 2
}
